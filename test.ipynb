{
 "cells": [
  {
   "cell_type": "code",
   "execution_count": 11,
   "metadata": {},
   "outputs": [],
   "source": [
    "import langchain\n",
    "import os, json\n",
    "import openai\n",
    "from dotenv import load_dotenv\n",
    "from langchain.embeddings.openai import OpenAIEmbeddings\n",
    "from langchain.vectorstores.azuresearch import AzureSearch"
   ]
  },
  {
   "cell_type": "code",
   "execution_count": 12,
   "metadata": {},
   "outputs": [],
   "source": [
    "# Load environment variables from a .env file using load_dotenv():\n",
    "load_dotenv()\n",
    "\n",
    "\n",
    "openai.api_key = os.environ.get(\"OPENAI_API_KEY\")\n",
    "model: str = \"text-embedding-ada-002\""
   ]
  },
  {
   "cell_type": "code",
   "execution_count": 13,
   "metadata": {},
   "outputs": [],
   "source": [
    "vector_store_address: str = \"https://mysuperdbapp.search.windows.net\"\n",
    "vector_store_password: str = \"71D0w2gklO9fteqWgfLVxrWwqyLK0dOBjnYleT0MjsAzSeBgJaDE\"\n",
    "index_name: str = \"langchain-vector-demo\""
   ]
  },
  {
   "cell_type": "code",
   "execution_count": 14,
   "metadata": {},
   "outputs": [],
   "source": [
    "embeddings: OpenAIEmbeddings = OpenAIEmbeddings(model=model, chunk_size=1)\n",
    "vector_store: AzureSearch = AzureSearch(\n",
    "    azure_search_endpoint=vector_store_address,\n",
    "    azure_search_key=vector_store_password,\n",
    "    index_name=index_name,\n",
    "    embedding_function=embeddings.embed_query,\n",
    ")"
   ]
  },
  {
   "cell_type": "code",
   "execution_count": 15,
   "metadata": {},
   "outputs": [
    {
     "name": "stderr",
     "output_type": "stream",
     "text": [
      "Retrying langchain.embeddings.openai.embed_with_retry.<locals>._embed_with_retry in 4.0 seconds as it raised APIConnectionError: Error communicating with OpenAI: ('Connection aborted.', RemoteDisconnected('Remote end closed connection without response')).\n"
     ]
    },
    {
     "data": {
      "text/plain": [
       "['YzdmNmRiNDEtZTI5Mi00OGM4LTgwODAtZGViOThmMDQzNWY3']"
      ]
     },
     "execution_count": 15,
     "metadata": {},
     "output_type": "execute_result"
    }
   ],
   "source": [
    "from langchain.document_loaders import TextLoader\n",
    "from langchain.text_splitter import CharacterTextSplitter\n",
    "\n",
    "loader = TextLoader(\"./text.txt\", encoding=\"utf-8\")\n",
    "\n",
    "documents = loader.load()\n",
    "text_splitter = CharacterTextSplitter(chunk_size=1000, chunk_overlap=0)\n",
    "docs = text_splitter.split_documents(documents)\n",
    "for index, doc in enumerate(docs, start=0):\n",
    "    doc.metadata = {\"id\": index, \"brand\": \"test\"}\n",
    "\n",
    "vector_store.add_documents(documents=docs)"
   ]
  },
  {
   "cell_type": "code",
   "execution_count": 16,
   "metadata": {},
   "outputs": [
    {
     "name": "stdout",
     "output_type": "stream",
     "text": [
      "KWARGS {'search_type': 'hybrid'}\n",
      "Key: search_type, Value: hybrid\n",
      "KWARGS {'search_type': 'hybrid'}\n",
      "FILTERS None\n"
     ]
    },
    {
     "data": {
      "text/plain": [
       "[Document(page_content='Die Öffnungszeiten sind um 18 Uhr\\nEssen ist super\\nhallo', metadata={'id': 0, 'brand': 'test'}),\n",
       " Document(page_content='Die Öffnungszeiten sind um 18 Uhr\\nEssen ist super\\nhallo', metadata={'id': 0, 'brand': 'test'}),\n",
       " Document(page_content='Die Öffnungszeiten sind um 18 Uhr\\nEssen ist super\\nhallo', metadata={'id': 0, 'brand': 'test'}),\n",
       " Document(page_content='Die Öffnungszeiten sind um 18 Uhr\\nEssen ist super\\nhallo', metadata={'id': 0, 'brand': 'test'})]"
      ]
     },
     "execution_count": 16,
     "metadata": {},
     "output_type": "execute_result"
    }
   ],
   "source": [
    "vector_store.similarity_search(query=\"wann sind die Öffnungszeiten?\", search_type=\"hybrid\")"
   ]
  },
  {
   "cell_type": "code",
   "execution_count": 17,
   "metadata": {},
   "outputs": [
    {
     "name": "stdout",
     "output_type": "stream",
     "text": [
      "KWARGS {'filters': 'search.ismatch(\\'\"brand: notthere\"\\')'}\n",
      "Key: filters, Value: search.ismatch('\"brand: notthere\"')\n",
      "KWARGS {'filters': 'search.ismatch(\\'\"brand: notthere\"\\')'}\n",
      "FILTERS search.ismatch('\"brand: notthere\"')\n"
     ]
    },
    {
     "data": {
      "text/plain": [
       "[]"
      ]
     },
     "execution_count": 17,
     "metadata": {},
     "output_type": "execute_result"
    }
   ],
   "source": [
    "vector_store.similarity_search(query=\"wann sind die Öffnungszeiten?\", filters = \"search.ismatch('\\\"brand: notthere\\\"')\")"
   ]
  },
  {
   "cell_type": "code",
   "execution_count": 18,
   "metadata": {},
   "outputs": [
    {
     "name": "stdout",
     "output_type": "stream",
     "text": [
      "KWARGS... {'filters': 'search.ismatch(\\'\"brand: notthere\"\\')'}\n",
      "KWARGS {}\n",
      "KWARGS {}\n",
      "FILTERS None\n",
      "[Document(page_content='Die Öffnungszeiten sind um 18 Uhr\\nEssen ist super\\nhallo', metadata={'id': 0, 'brand': 'test'}), Document(page_content='Die Öffnungszeiten sind um 18 Uhr\\nEssen ist super\\nhallo', metadata={'id': 0, 'brand': 'test'}), Document(page_content='Die Öffnungszeiten sind um 18 Uhr\\nEssen ist super\\nhallo', metadata={'id': 0, 'brand': 'test'}), Document(page_content='Die Öffnungszeiten sind um 18 Uhr\\nEssen ist super\\nhallo', metadata={'id': 0, 'brand': 'test'})]\n"
     ]
    }
   ],
   "source": [
    "# Does not work\n",
    "retriever = vector_store.as_retriever()\n",
    "docs = retriever.get_relevant_documents(\n",
    "    query=\"when does the restaurant open?\", filters=\"search.ismatch('\\\"brand: notthere\\\"')\"\n",
    ")\n",
    "print(docs)"
   ]
  },
  {
   "cell_type": "code",
   "execution_count": 20,
   "metadata": {},
   "outputs": [
    {
     "name": "stdout",
     "output_type": "stream",
     "text": [
      "KWARGS... {}\n",
      "KWARGS {'filters': 'search.ismatch(\\'\"brand: notthere\"\\')'}\n",
      "Key: filters, Value: search.ismatch('\"brand: notthere\"')\n",
      "KWARGS {'filters': 'search.ismatch(\\'\"brand: notthere\"\\')'}\n",
      "FILTERS search.ismatch('\"brand: notthere\"')\n"
     ]
    },
    {
     "data": {
      "text/plain": [
       "[]"
      ]
     },
     "execution_count": 20,
     "metadata": {},
     "output_type": "execute_result"
    }
   ],
   "source": [
    "filters = f\"search.ismatch('\\\"brand: notthere\\\"')\"\n",
    "search_kwargs = {\"filters\": filters}\n",
    "\n",
    "retriever = vector_store.as_retriever(search_kwargs=search_kwargs)\n",
    "retriever.get_relevant_documents(query=\"when does the restaurant open?\")\n"
   ]
  },
  {
   "cell_type": "code",
   "execution_count": null,
   "metadata": {},
   "outputs": [],
   "source": [
    "# function based solution\n",
    "def get_relevant_documents(query, brand):\n",
    "    filters = f\"search.ismatch('\\\"brand: {brand}\\\"')\"\n",
    "    search_kwargs = {\"filters\": filters}\n",
    "    retriever = vector_store.as_retriever(search_kwargs=search_kwargs)\n",
    "    return retriever.get_relevant_documents(query=query)\n",
    "\n",
    "get_relevant_documents(\"when does the restaurant open?\", \"notthere\")\n"
   ]
  },
  {
   "cell_type": "code",
   "execution_count": null,
   "metadata": {},
   "outputs": [],
   "source": [
    "# class based solution\n",
    "class DocumentRetriever:\n",
    "    def __init__(self, vector_database):\n",
    "        self.vector_database = vector_database\n",
    "\n",
    "    def get_documents(self, search_query, brand_filter):\n",
    "        filter_string = f\"search.ismatch('\\\"brand: {brand_filter}\\\"')\"\n",
    "        search_params = {\"filters\": filter_string}\n",
    "        retriever_instance = self.vector_database.as_retriever(search_params=search_params)\n",
    "        return retriever_instance.get_relevant_documents(query=search_query)\n",
    "\n",
    "document_retriever = DocumentRetriever(vector_database=vector_store)\n",
    "document_retriever.get_documents(\"when does the restaurant open?\", \"notthere\")\n"
   ]
  }
 ],
 "metadata": {
  "kernelspec": {
   "display_name": "Python 3",
   "language": "python",
   "name": "python3"
  },
  "language_info": {
   "codemirror_mode": {
    "name": "ipython",
    "version": 3
   },
   "file_extension": ".py",
   "mimetype": "text/x-python",
   "name": "python",
   "nbconvert_exporter": "python",
   "pygments_lexer": "ipython3",
   "version": "3.11.0"
  },
  "orig_nbformat": 4
 },
 "nbformat": 4,
 "nbformat_minor": 2
}
